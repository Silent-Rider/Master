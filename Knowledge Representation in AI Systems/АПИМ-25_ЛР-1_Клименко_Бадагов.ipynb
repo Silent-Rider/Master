{
 "cells": [
  {
   "cell_type": "markdown",
   "id": "8e004de6-f150-44de-82df-b9a3c13a6f2b",
   "metadata": {},
   "source": [
    "<center>МИНИСТЕРСТВО НАУКИ И ВЫСШЕГО ОБРАЗОВАНИЯ РОССИЙСКОЙ ФЕДЕРАЦИИ </center>\n",
    "<center>ФЕДЕРАЛЬНОЕ ГОСУДАРСТВЕННОЕ БЮДЖЕТНОЕ ОБРАЗОВАТЕЛЬНОЕ УЧРЕЖДЕНИЕ ВЫСШЕГО ОБРАЗОВАНИЯ </center>\n",
    "<center>«НОВОСИБИРСКИЙ ГОСУДАРСТВЕННЫЙ ТЕХНИЧЕСКИЙ УНИВЕРСИТЕТ»</center>\n",
    "<center>Кафедра Вычислительной техники </center>\n",
    "<br>\n",
    "<center> <b> <font size=\"5\">  ОТЧЁТ </font>  </b>  </center>   \n",
    "<center><font size=\"3\">по лабораторной работе №1</font></center>\n",
    "<center><font size=\"3\">по дисциплине: «Системы искусственного интеллекта и машинное обучение» </font></center>\n",
    "<br>"
   ]
  },
  {
   "cell_type": "markdown",
   "id": "39cadcc0-1bb8-4955-aa3b-779e52845e5a",
   "metadata": {},
   "source": [
    "Выполнили:\n",
    "- Клименко К.В.\n",
    "- Бадагов А.\n",
    "\n",
    "Проверил: Фамилия И.О.\n",
    "\n",
    "<center>  Новосибирск, 2025  </center>"
   ]
  },
  {
   "cell_type": "markdown",
   "id": "3d494564-da20-4871-965d-968275de0ed6",
   "metadata": {
    "code_folding": [],
    "id": "44ad2e38"
   },
   "source": [
    "## Цель работы"
   ]
  },
  {
   "cell_type": "markdown",
   "id": "a57a909d-b99c-4d6a-b718-534aef005c4e",
   "metadata": {},
   "source": [
    "Получить практические навыки работы по решению задачи первичного анализа «сырых» данных, подготовки массива к обработке, выявлению и описанию зависимостей в исходных данных с использованием языка программирования Python."
   ]
  },
  {
   "cell_type": "markdown",
   "id": "9581693c-8c9b-4aca-82f4-5041186ccca1",
   "metadata": {},
   "source": [
    "## Ход работы"
   ]
  },
  {
   "cell_type": "code",
   "execution_count": 1,
   "id": "e3836b9d-d931-468e-9a47-6aafddb0686c",
   "metadata": {},
   "outputs": [
    {
     "name": "stdout",
     "output_type": "stream",
     "text": [
      "Версия Python - 3.13.7 (tags/v3.13.7:bcee1c3, Aug 14 2025, 14:15:11) [MSC v.1944 64 bit (AMD64)]\n",
      "Путь к интерпретатору Python - C:\\Program Files\\Python313\\python.exe\n"
     ]
    }
   ],
   "source": [
    "# Проверка версии и пути к выбранному интерпретатору\n",
    "import sys\n",
    "print(f\"Версия Python - {sys.version}\")\n",
    "print(f\"Путь к интерпретатору Python - {sys.executable}\")"
   ]
  },
  {
   "cell_type": "code",
   "execution_count": 2,
   "id": "727a8d5a-b524-451e-b1f3-82ad5b685678",
   "metadata": {},
   "outputs": [
    {
     "ename": "ModuleNotFoundError",
     "evalue": "No module named 'sklearn'",
     "output_type": "error",
     "traceback": [
      "\u001b[31m---------------------------------------------------------------------------\u001b[39m",
      "\u001b[31mModuleNotFoundError\u001b[39m                       Traceback (most recent call last)",
      "\u001b[36mCell\u001b[39m\u001b[36m \u001b[39m\u001b[32mIn[2]\u001b[39m\u001b[32m, line 5\u001b[39m\n\u001b[32m      2\u001b[39m \u001b[38;5;28;01mimport\u001b[39;00m\u001b[38;5;250m \u001b[39m\u001b[34;01mpandas\u001b[39;00m\u001b[38;5;250m \u001b[39m\u001b[38;5;28;01mas\u001b[39;00m\u001b[38;5;250m \u001b[39m\u001b[34;01mpd\u001b[39;00m\n\u001b[32m      3\u001b[39m \u001b[38;5;28;01mimport\u001b[39;00m\u001b[38;5;250m \u001b[39m\u001b[34;01mnumpy\u001b[39;00m\u001b[38;5;250m  \u001b[39m\u001b[38;5;28;01mas\u001b[39;00m\u001b[38;5;250m \u001b[39m\u001b[34;01mnp\u001b[39;00m\n\u001b[32m----> \u001b[39m\u001b[32m5\u001b[39m \u001b[38;5;28;01mimport\u001b[39;00m\u001b[38;5;250m \u001b[39m\u001b[34;01msklearn\u001b[39;00m\n\u001b[32m      6\u001b[39m \u001b[38;5;28;01mfrom\u001b[39;00m\u001b[38;5;250m \u001b[39m\u001b[34;01msklearn\u001b[39;00m\u001b[38;5;250m \u001b[39m\u001b[38;5;28;01mimport\u001b[39;00m linear_model\n\u001b[32m      7\u001b[39m \u001b[38;5;28;01mfrom\u001b[39;00m\u001b[38;5;250m \u001b[39m\u001b[34;01msklearn\u001b[39;00m\u001b[38;5;250m \u001b[39m\u001b[38;5;28;01mimport\u001b[39;00m metrics\n",
      "\u001b[31mModuleNotFoundError\u001b[39m: No module named 'sklearn'"
     ]
    }
   ],
   "source": [
    "# Python 3.10\n",
    "import pandas as pd\n",
    "import numpy  as np\n",
    "\n",
    "import sklearn\n",
    "from sklearn import linear_model\n",
    "from sklearn import metrics\n",
    "from sklearn.model_selection import train_test_split, cross_val_score\n",
    "\n",
    "%matplotlib inline\n",
    "from matplotlib import pyplot as plt\n",
    "from matplotlib import cm\n",
    "import seaborn as sns"
   ]
  },
  {
   "cell_type": "code",
   "execution_count": null,
   "id": "de560b0b-b809-4e5d-8b4b-cb56aeda989a",
   "metadata": {},
   "outputs": [],
   "source": []
  }
 ],
 "metadata": {
  "kernelspec": {
   "display_name": "Python 3 (ipykernel)",
   "language": "python",
   "name": "python3"
  },
  "language_info": {
   "codemirror_mode": {
    "name": "ipython",
    "version": 3
   },
   "file_extension": ".py",
   "mimetype": "text/x-python",
   "name": "python",
   "nbconvert_exporter": "python",
   "pygments_lexer": "ipython3",
   "version": "3.13.7"
  }
 },
 "nbformat": 4,
 "nbformat_minor": 5
}
