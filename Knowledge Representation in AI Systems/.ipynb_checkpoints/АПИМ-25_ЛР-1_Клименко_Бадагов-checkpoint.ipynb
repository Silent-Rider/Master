{
 "cells": [
  {
   "cell_type": "markdown",
   "id": "8e004de6-f150-44de-82df-b9a3c13a6f2b",
   "metadata": {},
   "source": [
    "<center>МИНИСТЕРСТВО НАУКИ И ВЫСШЕГО ОБРАЗОВАНИЯ РОССИЙСКОЙ ФЕДЕРАЦИИ </center>\n",
    "<center>ФЕДЕРАЛЬНОЕ ГОСУДАРСТВЕННОЕ БЮДЖЕТНОЕ ОБРАЗОВАТЕЛЬНОЕ УЧРЕЖДЕНИЕ ВЫСШЕГО ОБРАЗОВАНИЯ </center>\n",
    "<center>«НОВОСИБИРСКИЙ ГОСУДАРСТВЕННЫЙ ТЕХНИЧЕСКИЙ УНИВЕРСИТЕТ»</center>\n",
    "<center>Кафедра Вычислительной техники </center>\n",
    "<br>\n",
    "<center> <b> <font size=\"5\">  ОТЧЁТ </font>  </b>  </center>   \n",
    "<center><font size=\"3\">по лабораторной работе №1</font></center>\n",
    "<center><font size=\"3\">по дисциплине: «Системы искусственного интеллекта и машинное обучение» </font></center>\n",
    "<br>"
   ]
  },
  {
   "cell_type": "markdown",
   "id": "39cadcc0-1bb8-4955-aa3b-779e52845e5a",
   "metadata": {},
   "source": [
    "Выполнили:\n",
    "- Клименко К.В.\n",
    "- Бадагов А.\n",
    "\n",
    "Проверил: _ _ _ Фамилия И.О _ _ _\n",
    "\n",
    "<center>  Новосибирск, 2025  </center>"
   ]
  },
  {
   "cell_type": "markdown",
   "id": "3d494564-da20-4871-965d-968275de0ed6",
   "metadata": {
    "code_folding": [],
    "id": "44ad2e38"
   },
   "source": [
    "## Цель работы"
   ]
  },
  {
   "cell_type": "markdown",
   "id": "a57a909d-b99c-4d6a-b718-534aef005c4e",
   "metadata": {},
   "source": []
  }
 ],
 "metadata": {
  "kernelspec": {
   "display_name": "Python 3 (ipykernel)",
   "language": "python",
   "name": "python3"
  },
  "language_info": {
   "codemirror_mode": {
    "name": "ipython",
    "version": 3
   },
   "file_extension": ".py",
   "mimetype": "text/x-python",
   "name": "python",
   "nbconvert_exporter": "python",
   "pygments_lexer": "ipython3",
   "version": "3.13.7"
  }
 },
 "nbformat": 4,
 "nbformat_minor": 5
}
